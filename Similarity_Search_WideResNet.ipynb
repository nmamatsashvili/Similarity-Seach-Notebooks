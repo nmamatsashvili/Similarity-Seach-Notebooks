{
  "nbformat": 4,
  "nbformat_minor": 0,
  "metadata": {
    "colab": {
      "name": "Similarity-Search-WideResNet.ipynb",
      "provenance": [],
      "collapsed_sections": [],
      "authorship_tag": "ABX9TyN0cnz7Zy5M/54am8+xFJwy",
      "include_colab_link": true
    },
    "kernelspec": {
      "name": "python3",
      "display_name": "Python 3"
    },
    "language_info": {
      "name": "python"
    },
    "gpuClass": "standard"
  },
  "cells": [
    {
      "cell_type": "markdown",
      "metadata": {
        "id": "view-in-github",
        "colab_type": "text"
      },
      "source": [
        "<a href=\"https://colab.research.google.com/github/nmamatsashvili/Similarity-Seach-Notebooks/blob/master/OpenAI_Similarity_Search_WideResNet.ipynb\" target=\"_parent\"><img src=\"https://colab.research.google.com/assets/colab-badge.svg\" alt=\"Open In Colab\"/></a>"
      ]
    },
    {
      "cell_type": "code",
      "source": [
        "!nvidia-smi -L"
      ],
      "metadata": {
        "colab": {
          "base_uri": "https://localhost:8080/"
        },
        "id": "snIUYcCJ1Grk",
        "outputId": "6fb2186d-fefb-44a5-bf4f-9f8efada748d"
      },
      "execution_count": 1,
      "outputs": [
        {
          "output_type": "stream",
          "name": "stdout",
          "text": [
            "GPU 0: Tesla T4 (UUID: GPU-83c2d03c-7bc4-c566-de27-444b5385b6b4)\n"
          ]
        }
      ]
    },
    {
      "cell_type": "code",
      "execution_count": null,
      "metadata": {
        "id": "LjeYRjloIPA9"
      },
      "outputs": [],
      "source": [
        "import torch\n",
        "# or WRN-101-2\n",
        "model = torch.hub.load('pytorch/vision:v0.10.0', 'wide_resnet101_2', pretrained=True)\n",
        "model.eval()\n"
      ]
    },
    {
      "cell_type": "code",
      "source": [
        "from google.colab import drive\n",
        "drive.mount('/content/drive')"
      ],
      "metadata": {
        "colab": {
          "base_uri": "https://localhost:8080/"
        },
        "id": "o2koj5psmlsk",
        "outputId": "2fa5d771-7364-4dd3-cfad-5644c8d4e912"
      },
      "execution_count": 4,
      "outputs": [
        {
          "output_type": "stream",
          "name": "stdout",
          "text": [
            "Mounted at /content/drive\n"
          ]
        }
      ]
    },
    {
      "cell_type": "code",
      "source": [
        "print(\"insert data\")\n",
        "import os\n",
        "import time\n",
        "\n",
        "lstResultSimilarity = []\n",
        "stmtIds = []\n",
        "stmtIdsUnvisited = []\n",
        "start = time.perf_counter()\n",
        "dir = \"/content/drive/MyDrive/Colab Notebooks/data/responses_test_5\"\n",
        "dataFile = \"WideResNet.txt\"\n",
        "FileExists = os.path.exists(dataFile)\n",
        "\n",
        "if FileExists :\n",
        "    file = open(dataFile,\"r+\")\n",
        "    file.truncate()\n",
        "    file.close()"
      ],
      "metadata": {
        "colab": {
          "base_uri": "https://localhost:8080/"
        },
        "id": "y9jvF81NR5Lv",
        "outputId": "08f73907-4811-43c3-af42-628db9338933"
      },
      "execution_count": 5,
      "outputs": [
        {
          "output_type": "stream",
          "name": "stdout",
          "text": [
            "insert data\n"
          ]
        }
      ]
    },
    {
      "cell_type": "code",
      "source": [
        "print(\"get all statement IDs\")\n",
        "stmtIds = []\n",
        "for folder in os.listdir(dir):\n",
        "    stmtIds.append(folder)\n",
        "stmtIdsUnvisited = list(stmtIds)\n",
        "openFile = open(dataFile, \"a\")\n",
        "end = time.perf_counter()\n",
        "print(\"time before iteration: \" + str( round(end - start, 2)) + \" seconds\")\n",
        "print(str(len(stmtIds)) + \" statements\")\n",
        "start = time.perf_counter()"
      ],
      "metadata": {
        "colab": {
          "base_uri": "https://localhost:8080/"
        },
        "id": "seq-5azPSG63",
        "outputId": "009bc4ee-9cd5-49e3-ed1c-23ca120954d4"
      },
      "execution_count": 6,
      "outputs": [
        {
          "output_type": "stream",
          "name": "stdout",
          "text": [
            "get all statement IDs\n",
            "time before iteration: 3.82 seconds\n",
            "5 statements\n"
          ]
        }
      ]
    },
    {
      "cell_type": "code",
      "source": [
        "pip install -U sentence-transformers"
      ],
      "metadata": {
        "id": "X9wkI4tXVwkA"
      },
      "execution_count": null,
      "outputs": []
    },
    {
      "cell_type": "code",
      "source": [
        "# sample execution (requires torchvision)\n",
        "from PIL import Image\n",
        "import torch.nn as nn\n",
        "from torchvision import transforms\n",
        "from sentence_transformers import SentenceTransformer, util\n",
        "\n",
        "def calculateCosineSimilarity(imagePath1, imagePath2):\n",
        "  input_image = Image.open(imagePath1) \n",
        "  input_image2 = Image.open(imagePath2)\n",
        "  preprocess = transforms.Compose([\n",
        "      transforms.Resize(256),\n",
        "      transforms.CenterCrop(224),\n",
        "      transforms.ToTensor(),\n",
        "      transforms.Normalize(mean=[0.485, 0.456, 0.406], std=[0.229, 0.224, 0.225]),\n",
        "  ])\n",
        "  input_tensor = preprocess(input_image)\n",
        "  input_tensor2 = preprocess(input_image2)\n",
        "  input_batch = input_tensor.unsqueeze(0) # create a mini-batch as expected by the model\n",
        "  input_batch2 = input_tensor2.unsqueeze(0) # create a mini-batch as expected by the model\n",
        "\n",
        "  # move the input and model to GPU for speed if available\n",
        "  if torch.cuda.is_available():\n",
        "      \n",
        "      input_batch = input_batch.to('cuda')\n",
        "      input_batch2 = input_batch2.to('cuda')\n",
        "      model.to('cuda')\n",
        "\n",
        "  # Tensor of shape 1000, with confidence scores over Imagenet's 1000 classes\n",
        "  with torch.no_grad():\n",
        "      output = model(input_batch)\n",
        "      output2 = model(input_batch2)\n",
        "\n",
        "  return util.cos_sim(output, output2)\n",
        "  \n",
        "\n"
      ],
      "metadata": {
        "id": "5qQJ5s3pIz6x"
      },
      "execution_count": 9,
      "outputs": []
    },
    {
      "cell_type": "code",
      "source": [
        "print(\"iterate over each statement pictures to find similarity\")\n",
        "from PIL import Image\n",
        "import os\n",
        "import time\n",
        "from sentence_transformers import SentenceTransformer, util\n",
        "\n",
        "\n",
        "cnt = 0\n",
        "for stmt in stmtIds:\n",
        "    stmtIdsUnvisited.remove(stmt)\n",
        "    lstImagesCurrent = []\n",
        "    \n",
        "    for image in os.listdir(dir + \"/\" + stmt):\n",
        "        if os.fsdecode(image).endswith(\".jpg\") == False:\n",
        "            continue\n",
        "        lstImagesCurrent.append(Image.open(f\"{dir}/{stmt}/{image}\").convert('RGB'))\n",
        "\n",
        "    \n",
        "    for img_lst in lstImagesCurrent:\n",
        "        \n",
        "        for stmtNext in stmtIdsUnvisited:\n",
        "            lstImagesNext = []\n",
        "            for imageNext in os.listdir(dir + \"/\" + stmtNext):\n",
        "                if os.fsdecode(imageNext).endswith(\".jpg\") == False:\n",
        "                    continue\n",
        "                lstImagesNext.append(Image.open(f\"{dir}/{stmtNext}/{imageNext}\").convert('RGB')) \n",
        "                rst = calculateCosineSimilarity(f\"{dir}/{stmt}/{image}\", f\"{dir}/{stmtNext}/{imageNext}\")\n",
        "                print(\"dir1: \" + f\"{dir}/{stmt}/{image}\" + \" ----- dir2: \" + f\"{dir}/{stmtNext}/{imageNext}\" + \" RST:\" + str(rst))\n",
        "                #result = f\"statements: {stmt} vs {stmtNext} - images: {img_lst} vs {imageNext}\" \n",
        "                #lstResultSimilarity.append({\"id1\":stmt, \"id2\":stmtNext, \"img1\":img_lst, \"img2\":imageNext})\n",
        "                #openFile.write(\"\\n\" + result)\n",
        "                cnt +=1\n",
        "            \n",
        "                \n",
        "                \n",
        "\n",
        "    print(\"success statement \" + str(stmt))\n",
        "print(\"end iteration \" + str(cnt))"
      ],
      "metadata": {
        "id": "kqy1XosNgG0-"
      },
      "execution_count": null,
      "outputs": []
    },
    {
      "cell_type": "code",
      "source": [
        "rst = calculateCosineSimilarity(\"/content/drive/MyDrive/Colab Notebooks/data/my_data/cc1.jpg\", \"/content/drive/MyDrive/Colab Notebooks/data/my_data/cc2.jpg\")\n",
        "print(rst)"
      ],
      "metadata": {
        "colab": {
          "base_uri": "https://localhost:8080/"
        },
        "id": "8-8sDiVkd9Ie",
        "outputId": "854ae860-5d46-43eb-bdcb-381070de40cf"
      },
      "execution_count": 11,
      "outputs": [
        {
          "output_type": "stream",
          "name": "stdout",
          "text": [
            "tensor([[0.8138]])\n"
          ]
        }
      ]
    },
    {
      "cell_type": "code",
      "source": [
        ""
      ],
      "metadata": {
        "id": "JA2CvfqYJFxq"
      },
      "execution_count": null,
      "outputs": []
    }
  ]
}
