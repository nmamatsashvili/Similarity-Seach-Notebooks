{
  "nbformat": 4,
  "nbformat_minor": 0,
  "metadata": {
    "colab": {
      "name": "OpenAI Similarity-Search-SwAV .ipynb",
      "provenance": [],
      "collapsed_sections": [],
      "authorship_tag": "ABX9TyMQJBlfXq58hUguCKzQpsuO",
      "include_colab_link": true
    },
    "kernelspec": {
      "name": "python3",
      "display_name": "Python 3"
    },
    "language_info": {
      "name": "python"
    },
    "gpuClass": "standard",
    "accelerator": "GPU"
  },
  "cells": [
    {
      "cell_type": "markdown",
      "metadata": {
        "id": "view-in-github",
        "colab_type": "text"
      },
      "source": [
        "<a href=\"https://colab.research.google.com/github/nmamatsashvili/Similarity-Seach-Notebooks/blob/master/Similarity_Search_SwAV_.ipynb\" target=\"_parent\"><img src=\"https://colab.research.google.com/assets/colab-badge.svg\" alt=\"Open In Colab\"/></a>"
      ]
    },
    {
      "cell_type": "code",
      "source": [
        "!nvidia-smi -L"
      ],
      "metadata": {
        "colab": {
          "base_uri": "https://localhost:8080/"
        },
        "id": "snIUYcCJ1Grk",
        "outputId": "5d507bac-d6b9-4fac-ee6e-89dcce5daab8"
      },
      "execution_count": null,
      "outputs": [
        {
          "output_type": "stream",
          "name": "stdout",
          "text": [
            "GPU 0: Tesla T4 (UUID: GPU-4092d421-e725-c11a-fa07-6b9ed4be3c71)\n"
          ]
        }
      ]
    },
    {
      "cell_type": "code",
      "execution_count": null,
      "metadata": {
        "id": "LjeYRjloIPA9"
      },
      "outputs": [],
      "source": [
        "import torch\n",
        "# or WRN-101-2\n",
        "model = torch.hub.load('facebookresearch/swav:main', 'resnet50')\n",
        "model.eval()\n"
      ]
    },
    {
      "cell_type": "code",
      "source": [
        "from google.colab import drive\n",
        "drive.mount('/content/drive')"
      ],
      "metadata": {
        "id": "o2koj5psmlsk",
        "colab": {
          "base_uri": "https://localhost:8080/"
        },
        "outputId": "d5d981c7-5d6a-4d9b-8e47-38c653de0d00"
      },
      "execution_count": null,
      "outputs": [
        {
          "output_type": "stream",
          "name": "stdout",
          "text": [
            "Mounted at /content/drive\n"
          ]
        }
      ]
    },
    {
      "cell_type": "code",
      "source": [
        "print(\"insert data\")\n",
        "import os\n",
        "import time\n",
        "\n",
        "lstResultSimilarity = []\n",
        "stmtIds = []\n",
        "stmtIdsUnvisited = []\n",
        "start = time.perf_counter()\n",
        "dir = \"/content/drive/MyDrive/Colab Notebooks/data/ResponsesNew\"\n",
        "dataFile = \"swav.txt\"\n",
        "FileExists = os.path.exists(dataFile)\n",
        "\n",
        "if FileExists :\n",
        "    file = open(dataFile,\"r+\")\n",
        "    file.truncate()\n",
        "    file.close()"
      ],
      "metadata": {
        "colab": {
          "base_uri": "https://localhost:8080/"
        },
        "id": "y9jvF81NR5Lv",
        "outputId": "e3da99c9-1603-4978-8fc0-0540b58b3545"
      },
      "execution_count": null,
      "outputs": [
        {
          "output_type": "stream",
          "name": "stdout",
          "text": [
            "insert data\n"
          ]
        }
      ]
    },
    {
      "cell_type": "code",
      "source": [
        "print(\"get all statement IDs\")\n",
        "stmtIds = []\n",
        "for folder in os.listdir(dir):\n",
        "    stmtIds.append(folder)\n",
        "stmtIdsUnvisited = list(stmtIds)\n",
        "openFile = open(dataFile, \"a\")\n",
        "end = time.perf_counter()\n",
        "print(\"time before iteration: \" + str( round(end - start, 2)) + \" seconds\")\n",
        "print(str(len(stmtIds)) + \" statements\")\n",
        "start = time.perf_counter()"
      ],
      "metadata": {
        "colab": {
          "base_uri": "https://localhost:8080/"
        },
        "id": "seq-5azPSG63",
        "outputId": "47cd606e-c6ed-4b5d-b87d-7daf2928efd1"
      },
      "execution_count": null,
      "outputs": [
        {
          "output_type": "stream",
          "name": "stdout",
          "text": [
            "get all statement IDs\n",
            "time before iteration: 46.32 seconds\n",
            "560 statements\n"
          ]
        }
      ]
    },
    {
      "cell_type": "code",
      "source": [
        "pip install -U sentence-transformers"
      ],
      "metadata": {
        "id": "X9wkI4tXVwkA",
        "colab": {
          "base_uri": "https://localhost:8080/"
        },
        "outputId": "30a9269f-e9d3-46f9-eeb1-40e4f92e1356"
      },
      "execution_count": null,
      "outputs": [
        {
          "output_type": "stream",
          "name": "stdout",
          "text": [
            "Successfully installed huggingface-hub-0.8.1 pyyaml-6.0 sentence-transformers-2.2.2 sentencepiece-0.1.96 tokenizers-0.12.1 transformers-4.20.1\n"
          ]
        }
      ]
    },
    {
      "cell_type": "code",
      "source": [
        "# sample execution (requires torchvision)\n",
        "from PIL import Image\n",
        "import torch.nn as nn\n",
        "from torchvision import transforms\n",
        "from sentence_transformers import SentenceTransformer, util\n",
        "def calculateCosineSimilarity(imagePath1, imagePath2):\n",
        "  input_image = Image.open(imagePath1).convert('RGB') \n",
        "  input_image2 = Image.open(imagePath2).convert('RGB')\n",
        "  preprocess = transforms.Compose([\n",
        "      transforms.Resize(256),\n",
        "      transforms.CenterCrop(224),\n",
        "      transforms.ToTensor(),\n",
        "      transforms.Normalize(mean=[0.485, 0.456, 0.406], std=[0.229, 0.224, 0.225]),\n",
        "  ])\n",
        "  input_tensor = preprocess(input_image)\n",
        "  input_tensor2 = preprocess(input_image2)\n",
        "  input_batch = input_tensor.unsqueeze(0) # create a mini-batch as expected by the model\n",
        "  input_batch2 = input_tensor2.unsqueeze(0) # create a mini-batch as expected by the model\n",
        "\n",
        "  # move the input and model to GPU for speed if available\n",
        "  if torch.cuda.is_available():\n",
        "      \n",
        "      input_batch = input_batch.to('cuda')\n",
        "      input_batch2 = input_batch2.to('cuda')\n",
        "      model.to('cuda')\n",
        "\n",
        "  # Tensor of shape 1000, with confidence scores over Imagenet's 1000 classes\n",
        "  with torch.no_grad():\n",
        "      output = model(input_batch)\n",
        "      output2 = model(input_batch2)\n",
        "\n",
        "  return util.cos_sim(output, output2)\n",
        "  \n",
        "\n"
      ],
      "metadata": {
        "id": "5qQJ5s3pIz6x"
      },
      "execution_count": null,
      "outputs": []
    },
    {
      "cell_type": "code",
      "source": [
        "print(\"iterate over each statement pictures to find similarity\")\n",
        "from PIL import Image\n",
        "import os\n",
        "import time\n",
        "from sentence_transformers import SentenceTransformer, util\n",
        "\n",
        "\n",
        "cnt = 0\n",
        "for stmt in stmtIds:\n",
        "    stmtIdsUnvisited.remove(stmt)\n",
        "    lstImagesCurrent = []\n",
        "    \n",
        "    for image in os.listdir(dir + \"/\" + stmt):\n",
        "        if os.fsdecode(image).endswith(\".jpg\") == False:\n",
        "            continue\n",
        "        lstImagesCurrent.append(Image.open(f\"{dir}/{stmt}/{image}\"))\n",
        "\n",
        "    \n",
        "    for img_lst in lstImagesCurrent:\n",
        "        \n",
        "        for stmtNext in stmtIdsUnvisited:\n",
        "            lstImagesNext = []\n",
        "            for imageNext in os.listdir(dir + \"/\" + stmtNext):\n",
        "                if os.fsdecode(imageNext).endswith(\".jpg\") == False:\n",
        "                    continue\n",
        "                lstImagesNext.append(Image.open(f\"{dir}/{stmtNext}/{imageNext}\")) \n",
        "                rst = calculateCosineSimilarity(f\"{dir}/{stmt}/{image}\", f\"{dir}/{stmtNext}/{imageNext}\")\n",
        "                #print(\"dir1: \" + f\"{dir}/{stmt}/{image}\" + \" ----- dir2: \" + f\"{dir}/{stmtNext}/{imageNext}\" + \" result:\" + str(rst))\n",
        "                result = f\"statements: {stmt} vs {stmtNext} - images: {image} vs {imageNext} result: {str(rst)}\"\n",
        "                #lstResultSimilarity.append({\"id1\":stmt, \"id2\":stmtNext, \"img1\":img_lst, \"img2\":imageNext})\n",
        "                openFile.write(\"\\n\" + result)\n",
        "                cnt +=1\n",
        "            \n",
        "                \n",
        "                \n",
        "\n",
        "    print(\"success statement \" + str(stmt))\n",
        "print(\"end iteration \" + str(cnt))"
      ],
      "metadata": {
        "id": "kqy1XosNgG0-",
        "colab": {
          "base_uri": "https://localhost:8080/"
        },
        "outputId": "76f36541-52bf-47c7-b8ae-df0dde11dc66"
      },
      "execution_count": null,
      "outputs": [
        {
          "output_type": "stream",
          "name": "stdout",
          "text": [
            "iterate over each statement pictures to find similarity\n",
            "success statement 5037118\n",
            "success statement 5038134\n",
            "success statement 5037856\n",
            "success statement 5038415\n"
          ]
        }
      ]
    },
    {
      "cell_type": "code",
      "source": [
        "rst = calculateCosineSimilarity(\"/content/drive/MyDrive/Colab Notebooks/data/my_data/cc1.jpg\", \"/content/drive/MyDrive/Colab Notebooks/data/my_data/cc2.jpg\")\n",
        "print(rst)"
      ],
      "metadata": {
        "colab": {
          "base_uri": "https://localhost:8080/"
        },
        "id": "8-8sDiVkd9Ie",
        "outputId": "0e4eda30-10cd-4ea9-f29c-c32e22ec5785"
      },
      "execution_count": null,
      "outputs": [
        {
          "output_type": "stream",
          "name": "stdout",
          "text": [
            "tensor([[0.8750]])\n"
          ]
        }
      ]
    },
    {
      "cell_type": "code",
      "source": [
        ""
      ],
      "metadata": {
        "id": "JA2CvfqYJFxq"
      },
      "execution_count": null,
      "outputs": []
    }
  ]
}