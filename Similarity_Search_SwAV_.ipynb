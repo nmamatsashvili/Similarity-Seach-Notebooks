{
  "nbformat": 4,
  "nbformat_minor": 0,
  "metadata": {
    "colab": {
      "name": "Similarity-Search-SwAV .ipynb",
      "provenance": [],
      "collapsed_sections": [],
      "authorship_tag": "ABX9TyPUNL9gBXjxepYb/Ee6pQkI",
      "include_colab_link": true
    },
    "kernelspec": {
      "name": "python3",
      "display_name": "Python 3"
    },
    "language_info": {
      "name": "python"
    },
    "gpuClass": "standard"
  },
  "cells": [
    {
      "cell_type": "markdown",
      "metadata": {
        "id": "view-in-github",
        "colab_type": "text"
      },
      "source": [
        "<a href=\"https://colab.research.google.com/github/nmamatsashvili/Similarity-Seach-Notebooks/blob/master/OpenAI_Similarity_Search_SwAV_.ipynb\" target=\"_parent\"><img src=\"https://colab.research.google.com/assets/colab-badge.svg\" alt=\"Open In Colab\"/></a>"
      ]
    },
    {
      "cell_type": "code",
      "source": [
        "!nvidia-smi -L"
      ],
      "metadata": {
        "colab": {
          "base_uri": "https://localhost:8080/"
        },
        "id": "snIUYcCJ1Grk",
        "outputId": "1534ab14-b364-41a0-fc8a-fe6c24a11879"
      },
      "execution_count": 1,
      "outputs": [
        {
          "output_type": "stream",
          "name": "stdout",
          "text": [
            "GPU 0: Tesla T4 (UUID: GPU-1fa0b1fa-5f86-fb2b-5890-b966a2734aa1)\n"
          ]
        }
      ]
    },
    {
      "cell_type": "code",
      "execution_count": null,
      "metadata": {
        "id": "LjeYRjloIPA9"
      },
      "outputs": [],
      "source": [
        "import torch\n",
        "# or WRN-101-2\n",
        "model = torch.hub.load('facebookresearch/swav:main', 'resnet50')\n",
        "model.eval()\n"
      ]
    },
    {
      "cell_type": "code",
      "source": [
        "from google.colab import drive\n",
        "drive.mount('/content/drive')"
      ],
      "metadata": {
        "id": "o2koj5psmlsk"
      },
      "execution_count": null,
      "outputs": []
    },
    {
      "cell_type": "code",
      "source": [
        "print(\"insert data\")\n",
        "import os\n",
        "import time\n",
        "\n",
        "lstResultSimilarity = []\n",
        "stmtIds = []\n",
        "stmtIdsUnvisited = []\n",
        "start = time.perf_counter()\n",
        "dir = \"/content/drive/MyDrive/Colab Notebooks/data/responses_test_5\"\n",
        "dataFile = \"WideResNet.txt\"\n",
        "FileExists = os.path.exists(dataFile)\n",
        "\n",
        "if FileExists :\n",
        "    file = open(dataFile,\"r+\")\n",
        "    file.truncate()\n",
        "    file.close()"
      ],
      "metadata": {
        "colab": {
          "base_uri": "https://localhost:8080/"
        },
        "id": "y9jvF81NR5Lv",
        "outputId": "2d2e6307-c142-4c64-f2cc-d51b390bfe46"
      },
      "execution_count": 13,
      "outputs": [
        {
          "output_type": "stream",
          "name": "stdout",
          "text": [
            "insert data\n"
          ]
        }
      ]
    },
    {
      "cell_type": "code",
      "source": [
        "print(\"get all statement IDs\")\n",
        "stmtIds = []\n",
        "for folder in os.listdir(dir):\n",
        "    stmtIds.append(folder)\n",
        "stmtIdsUnvisited = list(stmtIds)\n",
        "openFile = open(dataFile, \"a\")\n",
        "end = time.perf_counter()\n",
        "print(\"time before iteration: \" + str( round(end - start, 2)) + \" seconds\")\n",
        "print(str(len(stmtIds)) + \" statements\")\n",
        "start = time.perf_counter()"
      ],
      "metadata": {
        "colab": {
          "base_uri": "https://localhost:8080/"
        },
        "id": "seq-5azPSG63",
        "outputId": "68161f5b-2731-4ab4-eb30-87db06c9c1d4"
      },
      "execution_count": 14,
      "outputs": [
        {
          "output_type": "stream",
          "name": "stdout",
          "text": [
            "get all statement IDs\n",
            "time before iteration: 3.39 seconds\n",
            "5 statements\n"
          ]
        }
      ]
    },
    {
      "cell_type": "code",
      "source": [
        "pip install -U sentence-transformers"
      ],
      "metadata": {
        "id": "X9wkI4tXVwkA"
      },
      "execution_count": null,
      "outputs": []
    },
    {
      "cell_type": "code",
      "source": [
        "# sample execution (requires torchvision)\n",
        "from PIL import Image\n",
        "import torch.nn as nn\n",
        "from torchvision import transforms\n",
        "from sentence_transformers import SentenceTransformer, util\n",
        "def calculateCosineSimilarity(imagePath1, imagePath2):\n",
        "  input_image = Image.open(imagePath1) \n",
        "  input_image2 = Image.open(imagePath2)\n",
        "  preprocess = transforms.Compose([\n",
        "      transforms.Resize(256),\n",
        "      transforms.CenterCrop(224),\n",
        "      transforms.ToTensor(),\n",
        "      transforms.Normalize(mean=[0.485, 0.456, 0.406], std=[0.229, 0.224, 0.225]),\n",
        "  ])\n",
        "  input_tensor = preprocess(input_image)\n",
        "  input_tensor2 = preprocess(input_image2)\n",
        "  input_batch = input_tensor.unsqueeze(0) # create a mini-batch as expected by the model\n",
        "  input_batch2 = input_tensor2.unsqueeze(0) # create a mini-batch as expected by the model\n",
        "\n",
        "  # move the input and model to GPU for speed if available\n",
        "  if torch.cuda.is_available():\n",
        "      \n",
        "      input_batch = input_batch.to('cuda')\n",
        "      input_batch2 = input_batch2.to('cuda')\n",
        "      model.to('cuda')\n",
        "\n",
        "  # Tensor of shape 1000, with confidence scores over Imagenet's 1000 classes\n",
        "  with torch.no_grad():\n",
        "      output = model(input_batch)\n",
        "      output2 = model(input_batch2)\n",
        "\n",
        "  return util.cos_sim(output, output2)\n",
        "  \n",
        "\n"
      ],
      "metadata": {
        "id": "5qQJ5s3pIz6x"
      },
      "execution_count": 15,
      "outputs": []
    },
    {
      "cell_type": "code",
      "source": [
        "print(\"iterate over each statement pictures to find similarity\")\n",
        "from PIL import Image\n",
        "import os\n",
        "import time\n",
        "from sentence_transformers import SentenceTransformer, util\n",
        "\n",
        "\n",
        "cnt = 0\n",
        "for stmt in stmtIds:\n",
        "    stmtIdsUnvisited.remove(stmt)\n",
        "    lstImagesCurrent = []\n",
        "    \n",
        "    for image in os.listdir(dir + \"/\" + stmt):\n",
        "        if os.fsdecode(image).endswith(\".jpg\") == False:\n",
        "            continue\n",
        "        lstImagesCurrent.append(Image.open(f\"{dir}/{stmt}/{image}\").convert('RGB'))\n",
        "\n",
        "    \n",
        "    for img_lst in lstImagesCurrent:\n",
        "        \n",
        "        for stmtNext in stmtIdsUnvisited:\n",
        "            lstImagesNext = []\n",
        "            for imageNext in os.listdir(dir + \"/\" + stmtNext):\n",
        "                if os.fsdecode(imageNext).endswith(\".jpg\") == False:\n",
        "                    continue\n",
        "                lstImagesNext.append(Image.open(f\"{dir}/{stmtNext}/{imageNext}\").convert('RGB')) \n",
        "                rst = calculateCosineSimilarity(f\"{dir}/{stmt}/{image}\", f\"{dir}/{stmtNext}/{imageNext}\")\n",
        "                print(\"dir1: \" + f\"{dir}/{stmt}/{image}\" + \" ----- dir2: \" + f\"{dir}/{stmtNext}/{imageNext}\" + \" RST:\" + str(rst))\n",
        "                #result = f\"statements: {stmt} vs {stmtNext} - images: {img_lst} vs {imageNext}\" \n",
        "                #lstResultSimilarity.append({\"id1\":stmt, \"id2\":stmtNext, \"img1\":img_lst, \"img2\":imageNext})\n",
        "                #openFile.write(\"\\n\" + result)\n",
        "                cnt +=1\n",
        "            \n",
        "                \n",
        "                \n",
        "\n",
        "    print(\"success statement \" + str(stmt))\n",
        "print(\"end iteration \" + str(cnt))"
      ],
      "metadata": {
        "id": "kqy1XosNgG0-"
      },
      "execution_count": null,
      "outputs": []
    },
    {
      "cell_type": "code",
      "source": [
        "rst = calculateCosineSimilarity(\"/content/drive/MyDrive/Colab Notebooks/data/my_data/cc1.jpg\", \"/content/drive/MyDrive/Colab Notebooks/data/my_data/cc2.jpg\")\n",
        "print(rst)"
      ],
      "metadata": {
        "colab": {
          "base_uri": "https://localhost:8080/"
        },
        "id": "8-8sDiVkd9Ie",
        "outputId": "cfdaab62-423d-4f7a-86d1-d2c5cc78a18c"
      },
      "execution_count": 16,
      "outputs": [
        {
          "output_type": "stream",
          "name": "stdout",
          "text": [
            "tensor([[0.8735]])\n"
          ]
        }
      ]
    },
    {
      "cell_type": "code",
      "source": [
        ""
      ],
      "metadata": {
        "id": "JA2CvfqYJFxq"
      },
      "execution_count": null,
      "outputs": []
    }
  ]
}
