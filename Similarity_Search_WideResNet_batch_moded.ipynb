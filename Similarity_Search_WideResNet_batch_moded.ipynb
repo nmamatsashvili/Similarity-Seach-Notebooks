{
  "nbformat": 4,
  "nbformat_minor": 0,
  "metadata": {
    "colab": {
      "name": "Similarity-Search-WideResNet_batch_moded.ipynb",
      "provenance": [],
      "collapsed_sections": [],
      "authorship_tag": "ABX9TyPyf+Czixxcm3Hv7T7xRcra",
      "include_colab_link": true
    },
    "kernelspec": {
      "name": "python3",
      "display_name": "Python 3"
    },
    "language_info": {
      "name": "python"
    },
    "gpuClass": "standard"
  },
  "cells": [
    {
      "cell_type": "markdown",
      "metadata": {
        "id": "view-in-github",
        "colab_type": "text"
      },
      "source": [
        "<a href=\"https://colab.research.google.com/github/nmamatsashvili/Similarity-Seach-Notebooks/blob/master/Similarity_Search_WideResNet_batch_moded.ipynb\" target=\"_parent\"><img src=\"https://colab.research.google.com/assets/colab-badge.svg\" alt=\"Open In Colab\"/></a>"
      ]
    },
    {
      "cell_type": "markdown",
      "source": [
        "# Load required modules and data"
      ],
      "metadata": {
        "id": "fRaAbM9JHYY-"
      }
    },
    {
      "cell_type": "code",
      "execution_count": null,
      "metadata": {
        "id": "nSQJ2prfG3MZ"
      },
      "outputs": [],
      "source": [
        "import torch\n",
        "# or WRN-101-2\n",
        "model = torch.hub.load('pytorch/vision:v0.10.0', 'wide_resnet101_2', pretrained=True)\n",
        "model.eval()"
      ]
    },
    {
      "cell_type": "code",
      "source": [
        "from google.colab import drive\n",
        "drive.mount('/content/drive')"
      ],
      "metadata": {
        "colab": {
          "base_uri": "https://localhost:8080/"
        },
        "id": "-kRZl1cDHVL2",
        "outputId": "a95bccdf-9d49-4825-b862-8e41bec14a7a"
      },
      "execution_count": null,
      "outputs": [
        {
          "output_type": "stream",
          "name": "stdout",
          "text": [
            "Drive already mounted at /content/drive; to attempt to forcibly remount, call drive.mount(\"/content/drive\", force_remount=True).\n"
          ]
        }
      ]
    },
    {
      "cell_type": "code",
      "source": [
        "pip install -U sentence-transformers"
      ],
      "metadata": {
        "id": "nJngQKfXHVSJ"
      },
      "execution_count": null,
      "outputs": []
    },
    {
      "cell_type": "markdown",
      "source": [
        "# Directory indexing and function defining"
      ],
      "metadata": {
        "id": "J26w1DSVHxzz"
      }
    },
    {
      "cell_type": "code",
      "source": [
        "import os\n",
        "import re\n",
        "from PIL import Image\n",
        "\n",
        "dirIndexed = []\n",
        "dirMain = \"/content/drive/MyDrive/Colab Notebooks/data/ResponsesNewMerge\"\n",
        "dirResults = \"/content/drive/MyDrive/Colab Notebooks/data/ResponsesNewMergeResult\"\n",
        "startIndx = 4801\n",
        "endIndx = 5600\n",
        "modelName = \"WideResNet\"\n",
        "npVecFileName = f\"NumpyVecs_{modelName}_{startIndx}-{endIndx}.npy\"\n",
        "npVecCombined = f\"NumpyVecsCombined_{modelName}\"\n",
        "\n",
        "\n",
        "def sorted_alphanumeric(data):\n",
        "    convert = lambda text: int(text) if text.isdigit() else text.lower()\n",
        "    alphanum_key = lambda key: [ convert(c) for c in re.split('([0-9]+)', key) ] \n",
        "    return sorted(data, key=alphanum_key)\n",
        "\n",
        "\n",
        "def GetImgIndxByName(fileName):\n",
        "  for item in dirIndexed:\n",
        "    if item[1] == fileName:\n",
        "      return item[0]\n",
        "  return 0\n",
        "\n",
        "def GetImgNameByIndx(index):\n",
        "  for item in dirIndexed:\n",
        "    if item[0] == index:\n",
        "      return item[1]\n",
        "  return \"\"\n",
        "\n",
        "def getImageListInRange(_startIndx, _endIndx):\n",
        "  imgs = []\n",
        "  i = 0\n",
        "  for arr in dirIndexed:\n",
        "    if arr[0] >= _startIndx and arr[0] <= _endIndx:\n",
        "      if os.fsdecode(arr[1]).endswith(\".jpg\") == False:\n",
        "            continue\n",
        "      imgs.append(Image.open(f\"{dirMain}/{arr[1]}\").convert('RGB'))\n",
        "      i+=1\n",
        "      n = int((_endIndx - _startIndx) / 5)\n",
        "      if i % n == 0:\n",
        "        print(f\"{i} image appended in list\")\n",
        "    \n",
        "  return imgs\n",
        "\n",
        "\n",
        "dir = sorted_alphanumeric(os.listdir(dirMain))\n",
        "i = 0\n",
        "while i < len(dir):\n",
        "  dirIndexed.append([i, dir[i]])\n",
        "  i += 1\n",
        "\n",
        "#CALL FROM HERE\n",
        "\n",
        "#rs = getImageListInRange(0, 8)\n",
        "#print(rs[0])\n",
        "#print(rs[151])\n",
        "#print(len(rs))\n",
        "\n",
        "\n",
        "\n",
        "#print(GetImgIndxByName(\"5244045_2.jpg\"))\n",
        "#print(GetImgNameByIndx(151))\n",
        "\n",
        "#print(dirIndexed)\n",
        "#print(dirIndexed[0])\n",
        "#print(dirIndexed[1])\n",
        "#print(dirIndexed[2])\n",
        "\n",
        "#print(len(dir))\n",
        "#print(dir)"
      ],
      "metadata": {
        "id": "WEnTuSnuH1XB"
      },
      "execution_count": null,
      "outputs": []
    },
    {
      "cell_type": "markdown",
      "source": [
        "# Calculate vectors"
      ],
      "metadata": {
        "id": "QUMmZuq3Yy7o"
      }
    },
    {
      "cell_type": "code",
      "source": [
        "from torchvision import transforms\n",
        "import numpy\n",
        "import gc\n",
        "import torch\n",
        "\n",
        "preprocess = transforms.Compose([\n",
        "      transforms.Resize(256),\n",
        "      transforms.CenterCrop(224),\n",
        "      transforms.ToTensor(),\n",
        "      transforms.Normalize(mean=[0.485, 0.456, 0.406], std=[0.229, 0.224, 0.225]),\n",
        "  ])\n",
        "\n",
        "if os.path.exists(f\"{dirResults}/{npVecFileName}\") == False:\n",
        "  imgList = getImageListInRange(startIndx, endIndx)\n",
        "\n",
        "  inputs = [preprocess(img) for img in imgList]\n",
        "  print(\"Input length \" + str(len(inputs)))\n",
        "\n",
        "  inputStack = torch.stack(inputs, axis=0)\n",
        "\n",
        "  if torch.cuda.is_available():\n",
        "      input_batch = inputStack.to('cuda')\n",
        "      model.to('cuda')\n",
        "  else:\n",
        "    input_batch = inputStack\n",
        "\n",
        "  with torch.inference_mode():\n",
        "      vecs = model(input_batch)\n",
        "\n",
        "  embeddings = numpy.array(vecs.cpu())\n",
        "  numpy.save(f'{dirResults}/{npVecFileName}', embeddings)\n",
        "  print(f\"Vector saved in {dirResults}/{npVecFileName}\")\n",
        "else:\n",
        "  print(f\"Vector already calculated in {dirResults}/{npVecFileName}\")\n",
        "#  embeddings = numpy.load(f'{dirMain}/{npVecFileName}')\n",
        "\n",
        "\n",
        "print(\"Cleaning up GPU memory and RAM...\")\n",
        "imgList = None\n",
        "inputs = None\n",
        "vecs = None\n",
        "input_batch = None\n",
        "inputStack = None\n",
        "embeddings = None\n",
        "gc.collect() \n",
        "torch.cuda.empty_cache()\n",
        "print(\"Memory is clean\")\n",
        "\n"
      ],
      "metadata": {
        "colab": {
          "base_uri": "https://localhost:8080/"
        },
        "id": "zN9KnlmPY4IO",
        "outputId": "975870d6-3b3e-4aec-b669-167849cf2cbf"
      },
      "execution_count": null,
      "outputs": [
        {
          "output_type": "stream",
          "name": "stdout",
          "text": [
            "159 image appended in list\n",
            "318 image appended in list\n",
            "477 image appended in list\n",
            "636 image appended in list\n",
            "input length 727\n",
            "Cleaning up GPU memory and RAM...\n",
            "Memory is clean\n"
          ]
        }
      ]
    },
    {
      "cell_type": "markdown",
      "source": [
        "# Concantenate vectors"
      ],
      "metadata": {
        "id": "uM8HdnF3Oeuk"
      }
    },
    {
      "cell_type": "code",
      "source": [
        "import numpy\n",
        "import os\n",
        "\n",
        "numpyLst = []\n",
        "\n",
        "dirResultSorted = sorted_alphanumeric(os.listdir(dirResults))\n",
        "for item in dirResultSorted:\n",
        "  if item.startswith(\"NumpyVecs_\"):\n",
        "    numpyLst.append(numpy.load(f\"{dirResults}/{item}\"))\n",
        "\n",
        "NpArr = numpy.concatenate(numpyLst, axis=0)\n",
        "numpy.save(f'{dirResults}/{npVecCombined}', NpArr)\n",
        "print(\"Numpy array concatenation completed\")"
      ],
      "metadata": {
        "colab": {
          "base_uri": "https://localhost:8080/"
        },
        "id": "gTQdYXFhOh-X",
        "outputId": "9ad5efde-c0f6-4400-f475-cf482b31b9db"
      },
      "execution_count": null,
      "outputs": [
        {
          "output_type": "stream",
          "name": "stdout",
          "text": [
            "Numpy array concatenation completed\n"
          ]
        }
      ]
    },
    {
      "cell_type": "markdown",
      "source": [
        "# Calculations"
      ],
      "metadata": {
        "id": "TITXSrDDjRiC"
      }
    },
    {
      "cell_type": "code",
      "source": [
        "import numpy\n",
        "import time\n",
        "import json\n",
        "from sentence_transformers import util\n",
        "\n",
        "embeddings = numpy.load(f'{dirResults}/{npVecCombined}.npy')\n",
        "print(\"start computing of cosine distances...\")\n",
        "print(f\"Embedding length {len(embeddings)}\")\n",
        "start = time.perf_counter()\n",
        "\n",
        "dataFile = f\"{dirResults}/{modelName}ResultJson_{startIndx}-{endIndx}.txt\"\n",
        "if os.path.exists(dataFile) :\n",
        "    openFile = open(dataFile,\"r+\")\n",
        "    openFile.truncate()\n",
        "    openFile.close()\n",
        "\n",
        "openFile = open(dataFile, \"a\")\n",
        "\n",
        "\n",
        "jList = []\n",
        "\n",
        "cnt = 0\n",
        "i = 0\n",
        "j = 0\n",
        "while i < len(embeddings):\n",
        "    fileName = GetImgNameByIndx(i)\n",
        "    j = i\n",
        "    while j < len(embeddings):\n",
        "        fileNameNext = GetImgNameByIndx(j)\n",
        "        isNextSame = True if int(fileName.split('_')[0]) == int(fileNameNext.split('_')[0]) else False\n",
        "        if i != j and isNextSame == False:\n",
        "            CosScore = util.cos_sim(embeddings[i], embeddings[j])\n",
        "            jList.append({\n",
        "                'i': i, 'j':j, 'id1': fileName, 'id2':fileNameNext, \"descr_score\":str(CosScore), \"counter\":cnt\n",
        "            })\n",
        "            \n",
        "            cnt += 1\n",
        "        j += 1\n",
        "    i += 1\n",
        "    \n",
        "json.dump(jList, openFile, indent=2)\n",
        "print(\"End computation\")\n",
        "end = time.perf_counter()\n",
        "openFile.close()\n",
        "print(\"Total time: \" + str( round(end - start, 2)) + \" seconds\")"
      ],
      "metadata": {
        "colab": {
          "base_uri": "https://localhost:8080/"
        },
        "id": "gBMdLqD_jUXg",
        "outputId": "be0ae3a9-b58b-4a1d-e8c8-251a858bb1b9"
      },
      "execution_count": null,
      "outputs": [
        {
          "output_type": "stream",
          "name": "stdout",
          "text": [
            "start computing of cosine distances...\n",
            "Embedding length 5528\n"
          ]
        }
      ]
    }
  ]
}
